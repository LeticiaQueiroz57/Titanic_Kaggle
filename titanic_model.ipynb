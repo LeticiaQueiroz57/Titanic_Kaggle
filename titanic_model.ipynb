{
 "cells": [
  {
   "cell_type": "code",
   "execution_count": 68,
   "metadata": {},
   "outputs": [],
   "source": [
    "import pandas as pd\n",
    "\n",
    "gender_submission = pd.read_csv('./titanic_dataset/gender_submission.csv')\n",
    "test_df = pd.read_csv('./titanic_dataset/test.csv')\n",
    "train_df = pd.read_csv('./titanic_dataset/train.csv')"
   ]
  },
  {
   "cell_type": "code",
   "execution_count": 69,
   "metadata": {},
   "outputs": [],
   "source": [
    "test_df = test_df.merge(gender_submission,on='PassengerId',how='inner')"
   ]
  },
  {
   "cell_type": "code",
   "execution_count": 73,
   "metadata": {},
   "outputs": [
    {
     "name": "stdout",
     "output_type": "stream",
     "text": [
      "PassengerId      0\n",
      "Pclass           0\n",
      "Sex              0\n",
      "Age            177\n",
      "SibSp            0\n",
      "Parch            0\n",
      "Ticket           0\n",
      "Fare             0\n",
      "Cabin            0\n",
      "Embarked         0\n",
      "dtype: int64\n",
      "PassengerId     0\n",
      "Pclass          0\n",
      "Sex             0\n",
      "Age            86\n",
      "SibSp           0\n",
      "Parch           0\n",
      "Ticket          0\n",
      "Fare            1\n",
      "Cabin           0\n",
      "Embarked        0\n",
      "dtype: int64\n"
     ]
    }
   ],
   "source": [
    "print(X_train.isnull().sum())\n",
    "print(X_test.isnull().sum())"
   ]
  },
  {
   "cell_type": "code",
   "execution_count": 127,
   "metadata": {},
   "outputs": [
    {
     "name": "stdout",
     "output_type": "stream",
     "text": [
      "0:\tlearn: 0.6927532\ttest: 0.6926242\tbest: 0.6926242 (0)\ttotal: 8.67ms\tremaining: 858ms\n"
     ]
    },
    {
     "name": "stdout",
     "output_type": "stream",
     "text": [
      "50:\tlearn: 0.6748252\ttest: 0.6672747\tbest: 0.6672747 (50)\ttotal: 685ms\tremaining: 658ms\n",
      "99:\tlearn: 0.6586650\ttest: 0.6445433\tbest: 0.6445433 (99)\ttotal: 1.33s\tremaining: 0us\n",
      "\n",
      "bestTest = 0.6445433073\n",
      "bestIteration = 99\n",
      "\n"
     ]
    }
   ],
   "source": [
    "from catboost import CatBoostClassifier, Pool\n",
    "from sklearn.metrics import accuracy_score, classification_report\n",
    "import numpy as np\n",
    "\n",
    "\n",
    "y_train = train_df['Survived']\n",
    "X_train = train_df.drop(columns=['Survived', 'Name'])\n",
    "\n",
    "y_test = test_df['Survived']\n",
    "X_test = test_df.drop(columns=['Survived', 'Name'])\n",
    "\n",
    "cat_features = ['Sex','Ticket','Cabin','Embarked']\n",
    "X_train[cat_features] = X_train[cat_features].fillna('missing')\n",
    "X_test[cat_features] = X_test[cat_features].fillna('missing')\n",
    "\n",
    "j = np.arange(0.05,1.005,0.05)\n",
    "j = [round(val, 2) for val in j]\n",
    "array = []\n",
    "\n",
    "\n",
    "model = CatBoostClassifier(\n",
    "    iterations=100,\n",
    "    learning_rate=0.001,\n",
    "    depth=3,\n",
    "    loss_function='Logloss',\n",
    "    cat_features=cat_features,\n",
    "    verbose=50\n",
    "    )\n",
    "\n",
    "model.fit(X_train,\n",
    "        y_train,\n",
    "        eval_set=(X_test,y_test),\n",
    "        early_stopping_rounds=50,\n",
    "        use_best_model=True\n",
    "        )\n",
    "\n",
    "y_pred = model.predict(X_test)\n"
   ]
  },
  {
   "cell_type": "code",
   "execution_count": 128,
   "metadata": {},
   "outputs": [
    {
     "name": "stdout",
     "output_type": "stream",
     "text": [
      "Acurácia: 1.0\n",
      "              precision    recall  f1-score   support\n",
      "\n",
      "           0       1.00      1.00      1.00       266\n",
      "           1       1.00      1.00      1.00       152\n",
      "\n",
      "    accuracy                           1.00       418\n",
      "   macro avg       1.00      1.00      1.00       418\n",
      "weighted avg       1.00      1.00      1.00       418\n",
      "\n"
     ]
    }
   ],
   "source": [
    "print('Acurácia:',accuracy_score(y_test,y_pred))\n",
    "print(classification_report(y_test, y_pred))"
   ]
  }
 ],
 "metadata": {
  "kernelspec": {
   "display_name": "catboost_env",
   "language": "python",
   "name": "python3"
  },
  "language_info": {
   "codemirror_mode": {
    "name": "ipython",
    "version": 3
   },
   "file_extension": ".py",
   "mimetype": "text/x-python",
   "name": "python",
   "nbconvert_exporter": "python",
   "pygments_lexer": "ipython3",
   "version": "3.9.21"
  }
 },
 "nbformat": 4,
 "nbformat_minor": 2
}
